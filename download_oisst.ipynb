{
 "cells": [
  {
   "cell_type": "markdown",
   "id": "f3057d3d",
   "metadata": {},
   "source": [
    "**making** a new .txt with links to netcdf files"
   ]
  },
  {
   "cell_type": "code",
   "execution_count": null,
   "id": "ce325dfa",
   "metadata": {},
   "outputs": [],
   "source": [
    "oisst_data= open ('/..../list_oisst.txt', 'w+')"
   ]
  },
  {
   "cell_type": "code",
   "execution_count": null,
   "id": "e199ae9e",
   "metadata": {},
   "outputs": [],
   "source": [
    "start_year=1981\n",
    "end_year=1982\n",
    "\n",
    "for i in range(start_year, end_year+1):\n",
    "     oisst_data.write('ftp://ftp2.psl.noaa.gov/Datasets/noaa.oisst.v2.highres/sst.day.mean.' + str(i) + '.nc\\n')\n",
    "oisst_data.close()"
   ]
  },
  {
   "cell_type": "markdown",
   "id": "31f3f93b",
   "metadata": {},
   "source": [
    "**downloading** by `wget`"
   ]
  },
  {
   "cell_type": "code",
   "execution_count": null,
   "id": "3c9705e1",
   "metadata": {},
   "outputs": [],
   "source": [
    "!wget -i /..../list_oisst.txt"
   ]
  }
 ],
 "metadata": {
  "kernelspec": {
   "display_name": "Python 3",
   "language": "python",
   "name": "python3"
  },
  "language_info": {
   "codemirror_mode": {
    "name": "ipython",
    "version": 3
   },
   "file_extension": ".py",
   "mimetype": "text/x-python",
   "name": "python",
   "nbconvert_exporter": "python",
   "pygments_lexer": "ipython3",
   "version": "3.8.3"
  }
 },
 "nbformat": 4,
 "nbformat_minor": 5
}
